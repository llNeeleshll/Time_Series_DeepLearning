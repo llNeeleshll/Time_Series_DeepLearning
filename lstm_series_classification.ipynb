{
 "cells": [
  {
   "cell_type": "markdown",
   "metadata": {},
   "source": [
    "## LSTM - Sineand Tan Wave Classification\n",
    "\n",
    "Here, we'll use LSTM to classify the Sine series and Tangent series, considering them as the time-series.\n",
    "\n",
    "**Step 1 : Importing the Libraries**"
   ]
  },
  {
   "cell_type": "code",
   "execution_count": 16,
   "metadata": {},
   "outputs": [],
   "source": [
    "import torch.nn as nn\n",
    "import torch\n",
    "import numpy as np\n",
    "import matplotlib.pyplot as plt\n",
    "import pandas as pd\n",
    "from sklearn.model_selection import train_test_split\n",
    "import seaborn as sns"
   ]
  },
  {
   "cell_type": "code",
   "execution_count": 2,
   "metadata": {},
   "outputs": [],
   "source": [
    "if torch.cuda.is_available():\n",
    "    device = 'cuda:0'\n",
    "else:\n",
    "    device = 'cpu'\n",
    "pass"
   ]
  },
  {
   "cell_type": "markdown",
   "metadata": {},
   "source": [
    "**Step 2 : Loading or Formulating the dataset**\n",
    "\n",
    "Here we need to create the random series of both Sine and Tangent. **Sine** would be labeld as **0** and **Tangent** series would be **1**.\n",
    "\n",
    "The structure of the dataset would be\n",
    "\n",
    "| X   | y   |\n",
    "| :---: | :--:|\n",
    "| $[sin(a), sin(a+1), sin(a+2)..., sin(a+n)]$ | 0 |\n",
    "| $[tan(a), tan(a+1), tan(a+2)..., tan(a+n)]$ | 1 |\n",
    "| $[sin(b), sin(b+1), sin(b+2)..., sin(b+n)]$ | 0 |\n",
    "| $[tan(b), tan(b+1), tan(b+2)..., tan(b+n)]$ | 1 |\n",
    "| $... ... ... ... ...$  | ... |\n",
    "| $[sin(z), sin(z+1), sin(z+2)..., sin(z+n)]$ | 0 |\n",
    "| $[tan(z), tan(z+1), tan(z+2)..., tan(z+n)]$ | 1 |\n",
    "\n",
    "$a ... z$ are the random number between $0 - 100.$<br/>\n",
    "$n$ is the maximum data points we need. Here we choose it to be 400.<br/>\n",
    "The rows in the dataset let's say would be $1000$. $500$ for $sin(x)$ and $500$ for $tan(x)$\n",
    "\n"
   ]
  },
  {
   "cell_type": "code",
   "execution_count": 3,
   "metadata": {},
   "outputs": [],
   "source": [
    "\n",
    "main_series = []\n",
    "\n",
    "for _ in range(0,1000):\n",
    "\n",
    "    rn = np.random.randint(0,100)\n",
    "\n",
    "    series_1 = []\n",
    "    series_2 = []\n",
    "\n",
    "    for i in range(rn,rn+400):\n",
    "        series_1.append(np.sin(i) + 1) # +1 is there to make the sine's output positive by moving the sine series up by 1 unit\n",
    "        series_2.append(np.abs(np.tan(i))) # abs is to get the absolute value of the Tan series to keep it positive\n",
    "\n",
    "    main_series.append((series_1,0))\n",
    "    main_series.append((series_2,1))\n",
    "\n",
    "df = pd.DataFrame(main_series, columns=['X','y'])\n"
   ]
  },
  {
   "cell_type": "markdown",
   "metadata": {},
   "source": [
    "**Step 2: Train-Test Split**"
   ]
  },
  {
   "cell_type": "code",
   "execution_count": 5,
   "metadata": {},
   "outputs": [],
   "source": [
    "X_train, X_test, y_train, y_test = train_test_split(df['X'], df['y'], test_size = 0.20, random_state=42)"
   ]
  },
  {
   "cell_type": "markdown",
   "metadata": {},
   "source": [
    "**Step 3 : Data Preprocessing**"
   ]
  },
  {
   "cell_type": "markdown",
   "metadata": {},
   "source": [
    "The output from this would be series, so converting the values to list "
   ]
  },
  {
   "cell_type": "code",
   "execution_count": null,
   "metadata": {},
   "outputs": [],
   "source": [
    "X_train = list(X_train)\n",
    "X_test = list(X_test)\n",
    "y_train = list(y_train)\n",
    "y_test = list(y_test)"
   ]
  },
  {
   "cell_type": "markdown",
   "metadata": {},
   "source": [
    "Converting the values to the Tensors"
   ]
  },
  {
   "cell_type": "code",
   "execution_count": 7,
   "metadata": {},
   "outputs": [],
   "source": [
    "x_train = torch.FloatTensor(X_train).to(device)\n",
    "y_train = torch.LongTensor(y_train).to(device)\n",
    "\n",
    "x_test = torch.FloatTensor(X_test).to(device)\n",
    "y_test = torch.LongTensor(y_test).to(device)"
   ]
  },
  {
   "cell_type": "markdown",
   "metadata": {},
   "source": [
    "**Step 4 : Modelling**\n",
    "\n",
    "This part is most important so let's understand this properly.\n",
    "\n",
    "<hr/>\n",
    "\n",
    "### Network Initialization\n",
    "\n",
    "<u>**Input-Output**</u>\n",
    "\n",
    "Let's talk about input and output of the model first. <br/>\n",
    "\n",
    "From **Step : 2** we have that the dataset is of $1000$ rows with each row of series length $400$. Therefore, the `self.input_layer_size` will be $400$.\n",
    "\n",
    "<hr/>\n",
    "\n",
    "<u>**Hidden Layer**</u>\n",
    "\n",
    "So the hidden layer could have any number of value. We would need to tweak this value to see when the model performs the best. For now, let's keep this value as $200$.\n",
    "\n",
    "<hr/>\n",
    "\n",
    "<u>**LSTM Layer**</u>\n",
    "\n",
    "As per the parameters defined above the *LSTM* layer would be like :\n",
    "\n",
    "`self.lstm = nn.LSTM(self.input_layer_size, self.hidden_layer_size)` or ` self.lstm = nn.LSTM(400, 200)`\n",
    "\n",
    "<hr/>\n",
    "\n",
    "<u>**Fully Connected Layer**</u>\n",
    "\n",
    "Now as the output of the *LSTM* layer is $200$, the input of the *Fully Conected* layer, which comes after the *LSTM* layer, should have to be $200$ as well. That is `self.hidden_layer_size` would be $200$.\n",
    "\n",
    "The output of the *Fully Conected* layer depends upon the number of classes we have in the dataset. For now we have 2 classes, $0$ and $1$. This problem therefore is a *\"Binary Classification\"* problem. This would require the output of the network to be either $0$ or $1$. That is `self.output_layer_size` would be $1$\n",
    "\n",
    "This can be achieved by setting the output of the *Fully Conected* as $1$.\n",
    "\n",
    "So, as per the parameters defined above the *Fully Conected* layer would be like : \n",
    "\n",
    "`self.fc = nn.Linear(self.hidden_layer_size, self.output_layer_size)` or `self.fc = nn.Linear(200, 1)`\n",
    "\n",
    "<hr/>\n",
    "\n",
    "<u>**Hidden Cell**</u>\n",
    "\n",
    "We know that the *LSTM* cell have two more inputs apart from the data. They are called Hidden State Tensor $h_t$ and Cell State Tensor $c_t$. The dimensions of both $h_t$ and $c_t$ are same. \n",
    "\n",
    "Since the network need these as inputs so we need to pass them to the *LSTM* cell as well, although the network doesn't care what the initial values/states of $h_t$ and $c_t$ are, so we initialize them with $0$ Tensor.\n",
    "\n",
    "Dimension of both $h_t$ and $c_t$ would be : (*number of LSTM layers*, *batch size*, *hidden layer size*)\n",
    "\n",
    "In our case we have :\n",
    "\n",
    "*number of LSTM layers* : $1$<br/>\n",
    "*batch size* : $1$<br/>\n",
    "*hidden layer size* : $200$\n",
    "\n",
    "So, the Tensor value for $h_t$ would be = `torch.zeros(1,1,self.hidden_layer_size)`<br/>\n",
    "the Tensor value for $c_t$ would be = `torch.zeros(1,1,self.hidden_layer_size)`\n",
    "\n",
    "Here, `self.hidden_cell` is a touple having both `(h_t, c_t)`\n",
    "\n",
    "<hr/>\n",
    "\n",
    "<u>**Sigmoid Activation**</u>\n",
    "\n",
    "Since this is a *Binary Classification Problem* we would need to keep the output of the network between $0$ and $1$ therefor we use the *Sigmoid Activation Function* on the output of the *Fully Connected Layer*. This is the defination of the function : `self.sigmoid = nn.Sigmoid()`\n",
    "\n",
    "<hr/>\n",
    "\n",
    "### Forward Function\n",
    "\n",
    "This is where we'll use the above definations of the layers. This *Forward* function is the one which takes the input during the training of the phase or the prediction phase of the model. In our case, the input to this function `input_seq` is basically one of the following series :\n",
    "\n",
    "$[sin(a), sin(a+1), sin(a+2)..., sin(a+n)]$  for $n=400$\n",
    "\n",
    "$[tan(a), tan(a+1), tan(a+2)..., tan(a+n)]$ for $n=400$\n",
    "\n",
    "<hr/>\n",
    "\n",
    "<u>**LSTM Initialization**</u>\n",
    "\n",
    "Since the incomming series is of dimension [1 x 400] or [400] which is a single dimensional tensor, we would need to convert it into 3 dimensional tensor i.e. [1,1,400]. This could be done as follows :\n",
    "\n",
    "`input_seq.view(1 ,1, -1)`\n",
    "\n",
    "This converted series will then have to be passed to *LSTM* layer's input. Also, we discussed above that the *LSTM Layer* also takes the hidden and cell state $h_t$ and $c_t$ as input. We would need to pass it as well during the layer's initialization along with the 3 dimensional series. This is done as follows:\n",
    "\n",
    "`self.lstm(input_seq.view(1 ,1, -1), self.hidden_cell)`\n"
   ]
  },
  {
   "cell_type": "code",
   "execution_count": 10,
   "metadata": {},
   "outputs": [],
   "source": [
    "class LSTMModule(nn.Module):\n",
    "\n",
    "    def __init__(self):\n",
    "        super(LSTMModule, self).__init__()\n",
    "\n",
    "        self.input_layer_size = 400\n",
    "        self.hidden_layer_size = 200\n",
    "        self.output_layer_size = 1\n",
    "\n",
    "        self.lstm = nn.LSTM(self.input_layer_size, self.hidden_layer_size)\n",
    "        self.fc = nn.Linear(self.hidden_layer_size, self.output_layer_size)\n",
    "\n",
    "        self.hidden_cell = (torch.zeros(1,1,self.hidden_layer_size).to(device), torch.zeros(1,1,self.hidden_layer_size).to(device))\n",
    "\n",
    "        self.sigmoid = nn.Sigmoid()\n",
    "\n",
    "    def forward(self, input_seq):\n",
    "\n",
    "        lstm_out, self.hidden_cell = self.lstm(input_seq.view(1 ,1, -1), self.hidden_cell)\n",
    "        predictions = self.sigmoid(self.fc(lstm_out.view(1, -1)))\n",
    "        return predictions[-1]"
   ]
  },
  {
   "cell_type": "markdown",
   "metadata": {},
   "source": [
    "Defining Loss function and Optimizer for the model training. \n",
    "\n",
    "***Loss Function** -> BCE Loss since this is a binarry classification and we have only two classes*<br/>\n",
    "***Optimizer** -> ADAM*"
   ]
  },
  {
   "cell_type": "code",
   "execution_count": 11,
   "metadata": {},
   "outputs": [],
   "source": [
    "model = LSTMModule().to(device)\n",
    "\n",
    "criterion = nn.BCELoss().to(device)\n",
    "optimizer = torch.optim.Adam(model.parameters(), lr=0.01)"
   ]
  },
  {
   "cell_type": "code",
   "execution_count": 12,
   "metadata": {},
   "outputs": [
    {
     "name": "stdout",
     "output_type": "stream",
     "text": [
      "LSTMModule(\n",
      "  (lstm): LSTM(400, 200)\n",
      "  (fc): Linear(in_features=200, out_features=1, bias=True)\n",
      "  (sigmoid): Sigmoid()\n",
      ")\n"
     ]
    }
   ],
   "source": [
    "print(model)"
   ]
  },
  {
   "cell_type": "markdown",
   "metadata": {},
   "source": [
    "**Step 5 : Model Training**"
   ]
  },
  {
   "cell_type": "code",
   "execution_count": 13,
   "metadata": {},
   "outputs": [
    {
     "name": "stdout",
     "output_type": "stream",
     "text": [
      "Epoch :  1\n",
      "training loss: 0.2767, acc 0.9131 \n",
      "validation loss: 0.2865, validation acc 0.8825 \n",
      "____________________\n",
      "Epoch :  2\n",
      "training loss: 0.0865, acc 0.9962 \n",
      "validation loss: 0.2325, validation acc 0.9075 \n",
      "____________________\n",
      "Epoch :  3\n",
      "training loss: 0.0369, acc 1.0000 \n",
      "validation loss: 0.2364, validation acc 0.9000 \n",
      "____________________\n",
      "Epoch :  4\n",
      "training loss: 0.0186, acc 1.0000 \n",
      "validation loss: 0.2535, validation acc 0.8950 \n",
      "____________________\n",
      "Epoch :  5\n",
      "training loss: 0.0096, acc 1.0000 \n",
      "validation loss: 0.2719, validation acc 0.8850 \n",
      "____________________\n",
      "Epoch :  6\n",
      "training loss: 0.0052, acc 1.0000 \n",
      "validation loss: 0.2971, validation acc 0.8825 \n",
      "____________________\n",
      "Epoch :  7\n",
      "training loss: 0.0029, acc 1.0000 \n",
      "validation loss: 0.3263, validation acc 0.8775 \n",
      "____________________\n",
      "Epoch :  8\n",
      "training loss: 0.0017, acc 1.0000 \n",
      "validation loss: 0.3580, validation acc 0.8775 \n",
      "____________________\n",
      "Epoch :  9\n",
      "training loss: 0.0010, acc 1.0000 \n",
      "validation loss: 0.3915, validation acc 0.8750 \n",
      "____________________\n",
      "Epoch :  10\n",
      "training loss: 0.0006, acc 1.0000 \n",
      "validation loss: 0.4263, validation acc 0.8750 \n",
      "____________________\n"
     ]
    }
   ],
   "source": [
    "epochs = 10\n",
    "\n",
    "running_loss_history = []\n",
    "epoch_list = []\n",
    "running_corrects_history = []\n",
    "val_running_loss_history = []\n",
    "val_running_corrects_history = []\n",
    "\n",
    "model.train()\n",
    "\n",
    "for i in range(epochs):\n",
    "\n",
    "    running_corrects = 0.0\n",
    "    val_running_loss = 0.0\n",
    "    val_running_corrects = 0.0\n",
    "\n",
    "    running_loss = 0.0\n",
    "\n",
    "    for seq, labels in zip(x_train, y_train):\n",
    "\n",
    "        optimizer.zero_grad()\n",
    "        model.hidden_cell = (torch.zeros(1, 1, 200).to(device), torch.zeros(1, 1, 200).to(device))\n",
    "\n",
    "        y_pred = model(seq)\n",
    "\n",
    "\n",
    "        single_loss = criterion(y_pred, labels.unsqueeze(0).float())\n",
    "        single_loss.backward()\n",
    "        optimizer.step()\n",
    "\n",
    "        preds = torch.round(y_pred).to(int).squeeze(0)\n",
    "        running_corrects += torch.sum(preds == labels)\n",
    "\n",
    "        running_loss += single_loss.item()\n",
    "\n",
    "\n",
    "    else:\n",
    "        with torch.no_grad():\n",
    "            for val_inputs, val_labels in zip(x_test, y_test):\n",
    "\n",
    "                val_outputs = model(val_inputs)\n",
    "                val_loss = criterion(val_outputs, val_labels.unsqueeze(0).float())\n",
    "                \n",
    "                val_preds = torch.round(val_outputs).to(int).squeeze(0)\n",
    "\n",
    "                val_running_loss += val_loss.item()\n",
    "                val_running_corrects += torch.sum(val_preds == val_labels)\n",
    "\n",
    "        \n",
    "    epoch_loss = running_loss/len(x_train)\n",
    "    epoch_acc = running_corrects.float()/ len(x_train)\n",
    "    running_loss_history.append(epoch_loss)\n",
    "    running_corrects_history.append(epoch_acc)\n",
    "\n",
    "    val_epoch_acc = val_running_corrects.float()/ len(x_test)\n",
    "    val_epoch_loss = val_running_loss/ len(x_test)\n",
    "    val_running_loss_history.append(val_epoch_loss)\n",
    "    val_running_corrects_history.append(val_epoch_acc)\n",
    "\n",
    "    epoch_list.append(i + 1)\n",
    "\n",
    "    print(\"Epoch : \",i + 1)\n",
    "    print('training loss: {:.4f}, acc {:.4f} '.format(running_loss/len(x_train), epoch_acc.item()))\n",
    "    print('validation loss: {:.4f}, validation acc {:.4f} '.format(val_epoch_loss, val_epoch_acc.item()))\n",
    "    print('_'*20)\n",
    "    "
   ]
  },
  {
   "cell_type": "code",
   "execution_count": 15,
   "metadata": {},
   "outputs": [
    {
     "data": {
      "image/png": "[encoded data removed]",
      "text/plain": [
       "<Figure size 432x288 with 1 Axes>"
      ]
     },
     "metadata": {
      "needs_background": "light"
     },
     "output_type": "display_data"
    }
   ],
   "source": [
    "plt.plot(epoch_list,running_loss_history)\n",
    "plt.xlabel(\"Epochs\")\n",
    "plt.ylabel(\"Training Loss\")\n",
    "plt.title(\"Loss vs Number of Epochs\")\n",
    "plt.show()"
   ]
  },
  {
   "cell_type": "markdown",
   "metadata": {},
   "source": [
    "**Step 6 : Evaluating the Model**"
   ]
  },
  {
   "cell_type": "code",
   "execution_count": 28,
   "metadata": {},
   "outputs": [
    {
     "data": {
      "text/plain": [
       "Text(69.0, 0.5, 'Predicted Values')"
      ]
     },
     "execution_count": 28,
     "metadata": {},
     "output_type": "execute_result"
    },
    {
     "data": {
      "image/png": "[encoded data removed]",
      "text/plain": [
       "<Figure size 720x432 with 2 Axes>"
      ]
     },
     "metadata": {
      "needs_background": "light"
     },
     "output_type": "display_data"
    }
   ],
   "source": [
    "predictions=[]\n",
    "\n",
    "with torch.no_grad():\n",
    "        model.eval()\n",
    "\n",
    "        for inputs, labels in zip(x_test, y_test):\n",
    "\n",
    "                output = model(inputs)          \n",
    "                predictions.append(torch.round(output).to(int).squeeze(0).to('cpu').item())\n",
    "        \n",
    "from sklearn.metrics import confusion_matrix\n",
    "cm=confusion_matrix(y_test.to('cpu').numpy(),predictions)\n",
    "cm\n",
    "\n",
    "plt.figure(figsize=(10,6))\n",
    "sns.heatmap(cm,annot=True)\n",
    "plt.xlabel('Actual Values')\n",
    "plt.ylabel('Predicted Values')"
   ]
  },
  {
   "cell_type": "code",
   "execution_count": 35,
   "metadata": {},
   "outputs": [
    {
     "data": {
      "text/plain": [
       "torch.Size([1, 1, 400])"
      ]
     },
     "execution_count": 35,
     "metadata": {},
     "output_type": "execute_result"
    }
   ],
   "source": [
    "a = torch.zeros(400)\n",
    "a.view(1 ,1, -1).shape"
   ]
  },
  {
   "cell_type": "code",
   "execution_count": null,
   "metadata": {},
   "outputs": [],
   "source": []
  }
 ],
 "metadata": {
  "interpreter": {
   "hash": "fe1fbfa14f7916735696a9322e667a237902258ca1fb6b99eeb22f79e9159140"
  },
  "kernelspec": {
   "display_name": "Python 3.8.6 64-bit",
   "language": "python",
   "name": "python3"
  },
  "language_info": {
   "codemirror_mode": {
    "name": "ipython",
    "version": 3
   },
   "file_extension": ".py",
   "mimetype": "text/x-python",
   "name": "python",
   "nbconvert_exporter": "python",
   "pygments_lexer": "ipython3",
   "version": "3.8.6"
  },
  "orig_nbformat": 4
 },
 "nbformat": 4,
 "nbformat_minor": 2
}
