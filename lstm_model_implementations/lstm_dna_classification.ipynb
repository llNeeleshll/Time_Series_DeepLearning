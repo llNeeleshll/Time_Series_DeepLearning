{
 "cells": [
  {
   "cell_type": "code",
   "execution_count": 17,
   "metadata": {},
   "outputs": [],
   "source": [
    "import torch.nn as nn\n",
    "import torch\n",
    "import numpy as np\n",
    "import matplotlib.pyplot as plt\n",
    "import pandas as pd\n",
    "from sklearn.model_selection import train_test_split\n",
    "import seaborn as sns\n",
    "from keras.preprocessing import sequence"
   ]
  },
  {
   "cell_type": "code",
   "execution_count": 15,
   "metadata": {},
   "outputs": [],
   "source": [
    "if torch.cuda.is_available():\n",
    "    device = 'cuda:0'\n",
    "else:\n",
    "    device = 'cpu'\n",
    "pass"
   ]
  },
  {
   "cell_type": "code",
   "execution_count": 2,
   "metadata": {},
   "outputs": [
    {
     "data": {
      "text/html": [
       "<div>\n",
       "<style scoped>\n",
       "    .dataframe tbody tr th:only-of-type {\n",
       "        vertical-align: middle;\n",
       "    }\n",
       "\n",
       "    .dataframe tbody tr th {\n",
       "        vertical-align: top;\n",
       "    }\n",
       "\n",
       "    .dataframe thead th {\n",
       "        text-align: right;\n",
       "    }\n",
       "</style>\n",
       "<table border=\"1\" class=\"dataframe\">\n",
       "  <thead>\n",
       "    <tr style=\"text-align: right;\">\n",
       "      <th></th>\n",
       "      <th>sequence</th>\n",
       "      <th>class</th>\n",
       "    </tr>\n",
       "  </thead>\n",
       "  <tbody>\n",
       "    <tr>\n",
       "      <th>0</th>\n",
       "      <td>ATGCCCCAACTAAATACTACCGTATGGCCCACCATAATTACCCCCA...</td>\n",
       "      <td>4</td>\n",
       "    </tr>\n",
       "    <tr>\n",
       "      <th>1</th>\n",
       "      <td>ATGAACGAAAATCTGTTCGCTTCATTCATTGCCCCCACAATCCTAG...</td>\n",
       "      <td>4</td>\n",
       "    </tr>\n",
       "    <tr>\n",
       "      <th>2</th>\n",
       "      <td>ATGTGTGGCATTTGGGCGCTGTTTGGCAGTGATGATTGCCTTTCTG...</td>\n",
       "      <td>3</td>\n",
       "    </tr>\n",
       "    <tr>\n",
       "      <th>3</th>\n",
       "      <td>ATGTGTGGCATTTGGGCGCTGTTTGGCAGTGATGATTGCCTTTCTG...</td>\n",
       "      <td>3</td>\n",
       "    </tr>\n",
       "    <tr>\n",
       "      <th>4</th>\n",
       "      <td>ATGCAACAGCATTTTGAATTTGAATACCAGACCAAAGTGGATGGTG...</td>\n",
       "      <td>3</td>\n",
       "    </tr>\n",
       "  </tbody>\n",
       "</table>\n",
       "</div>"
      ],
      "text/plain": [
       "                                            sequence  class\n",
       "0  ATGCCCCAACTAAATACTACCGTATGGCCCACCATAATTACCCCCA...      4\n",
       "1  ATGAACGAAAATCTGTTCGCTTCATTCATTGCCCCCACAATCCTAG...      4\n",
       "2  ATGTGTGGCATTTGGGCGCTGTTTGGCAGTGATGATTGCCTTTCTG...      3\n",
       "3  ATGTGTGGCATTTGGGCGCTGTTTGGCAGTGATGATTGCCTTTCTG...      3\n",
       "4  ATGCAACAGCATTTTGAATTTGAATACCAGACCAAAGTGGATGGTG...      3"
      ]
     },
     "execution_count": 2,
     "metadata": {},
     "output_type": "execute_result"
    }
   ],
   "source": [
    "df = pd.read_csv(r'C:\\Users\\neele\\OneDrive\\Documents\\Dataset\\human_dna_sequence\\human.txt', sep='\\t')\n",
    "df.head()"
   ]
  },
  {
   "cell_type": "code",
   "execution_count": 3,
   "metadata": {},
   "outputs": [],
   "source": [
    "dna_numerical = {}\n",
    "\n",
    "dna_numerical['A'] = 1\n",
    "dna_numerical['C'] = 2\n",
    "dna_numerical['G'] = 3\n",
    "dna_numerical['T'] = 4"
   ]
  },
  {
   "cell_type": "code",
   "execution_count": 4,
   "metadata": {},
   "outputs": [],
   "source": [
    "def dna_conversion(seq):\n",
    "    sql_arr = []\n",
    "    for i in range(len(seq)):\n",
    "        if seq[i] in dna_numerical.keys():\n",
    "            sql_arr.append(dna_numerical[seq[i]])\n",
    "\n",
    "    return sql_arr"
   ]
  },
  {
   "cell_type": "code",
   "execution_count": 5,
   "metadata": {},
   "outputs": [],
   "source": [
    "df['num_sequence'] = df['sequence'].apply(dna_conversion)"
   ]
  },
  {
   "cell_type": "code",
   "execution_count": 34,
   "metadata": {},
   "outputs": [],
   "source": [
    "df['num_sequence'] = df['num_sequence'].apply(lambda x : x[:1000])"
   ]
  },
  {
   "cell_type": "code",
   "execution_count": 46,
   "metadata": {},
   "outputs": [
    {
     "data": {
      "text/html": [
       "<div>\n",
       "<style scoped>\n",
       "    .dataframe tbody tr th:only-of-type {\n",
       "        vertical-align: middle;\n",
       "    }\n",
       "\n",
       "    .dataframe tbody tr th {\n",
       "        vertical-align: top;\n",
       "    }\n",
       "\n",
       "    .dataframe thead th {\n",
       "        text-align: right;\n",
       "    }\n",
       "</style>\n",
       "<table border=\"1\" class=\"dataframe\">\n",
       "  <thead>\n",
       "    <tr style=\"text-align: right;\">\n",
       "      <th></th>\n",
       "      <th>sequence</th>\n",
       "      <th>class</th>\n",
       "      <th>num_sequence</th>\n",
       "      <th>w_count</th>\n",
       "    </tr>\n",
       "  </thead>\n",
       "  <tbody>\n",
       "    <tr>\n",
       "      <th>42</th>\n",
       "      <td>ATGAGGCCCGAGCGTCCCCGGCCGCGCGGCAGCGCCCCCGGCCCGA...</td>\n",
       "      <td>0</td>\n",
       "      <td>[1, 4, 3, 1, 3, 3, 2, 2, 2, 3, 1, 3, 2, 3, 4, ...</td>\n",
       "      <td>543</td>\n",
       "    </tr>\n",
       "    <tr>\n",
       "      <th>43</th>\n",
       "      <td>ATGAGGCCCGAGCGTCCCCGGCCGCGCGGCAGCGCCCCCGGCCCGA...</td>\n",
       "      <td>0</td>\n",
       "      <td>[1, 4, 3, 1, 3, 3, 2, 2, 2, 3, 1, 3, 2, 3, 4, ...</td>\n",
       "      <td>1000</td>\n",
       "    </tr>\n",
       "    <tr>\n",
       "      <th>44</th>\n",
       "      <td>NTGCAGGTGATTTTCAAAGCCAAGTCAAAATATTCTCCAGAATTAC...</td>\n",
       "      <td>0</td>\n",
       "      <td>[4, 3, 2, 1, 3, 3, 4, 3, 1, 4, 4, 4, 4, 2, 1, ...</td>\n",
       "      <td>692</td>\n",
       "    </tr>\n",
       "    <tr>\n",
       "      <th>70</th>\n",
       "      <td>ATGCTCCAGTTCCCTCACATCAGCCAGTGCGAAGAGCTGCGGCTCA...</td>\n",
       "      <td>0</td>\n",
       "      <td>[1, 4, 3, 2, 4, 2, 2, 1, 3, 4, 4, 2, 2, 2, 4, ...</td>\n",
       "      <td>190</td>\n",
       "    </tr>\n",
       "    <tr>\n",
       "      <th>71</th>\n",
       "      <td>ATGCTCCAGTTCCCTCACATCAGCCAGTGCGAAGAGCTGCGGCTCA...</td>\n",
       "      <td>0</td>\n",
       "      <td>[1, 4, 3, 2, 4, 2, 2, 1, 3, 4, 4, 2, 2, 2, 4, ...</td>\n",
       "      <td>759</td>\n",
       "    </tr>\n",
       "  </tbody>\n",
       "</table>\n",
       "</div>"
      ],
      "text/plain": [
       "                                             sequence  class  \\\n",
       "42  ATGAGGCCCGAGCGTCCCCGGCCGCGCGGCAGCGCCCCCGGCCCGA...      0   \n",
       "43  ATGAGGCCCGAGCGTCCCCGGCCGCGCGGCAGCGCCCCCGGCCCGA...      0   \n",
       "44  NTGCAGGTGATTTTCAAAGCCAAGTCAAAATATTCTCCAGAATTAC...      0   \n",
       "70  ATGCTCCAGTTCCCTCACATCAGCCAGTGCGAAGAGCTGCGGCTCA...      0   \n",
       "71  ATGCTCCAGTTCCCTCACATCAGCCAGTGCGAAGAGCTGCGGCTCA...      0   \n",
       "\n",
       "                                         num_sequence  w_count  \n",
       "42  [1, 4, 3, 1, 3, 3, 2, 2, 2, 3, 1, 3, 2, 3, 4, ...      543  \n",
       "43  [1, 4, 3, 1, 3, 3, 2, 2, 2, 3, 1, 3, 2, 3, 4, ...     1000  \n",
       "44  [4, 3, 2, 1, 3, 3, 4, 3, 1, 4, 4, 4, 4, 2, 1, ...      692  \n",
       "70  [1, 4, 3, 2, 4, 2, 2, 1, 3, 4, 4, 2, 2, 2, 4, ...      190  \n",
       "71  [1, 4, 3, 2, 4, 2, 2, 1, 3, 4, 4, 2, 2, 2, 4, ...      759  "
      ]
     },
     "execution_count": 46,
     "metadata": {},
     "output_type": "execute_result"
    }
   ],
   "source": [
    "df['w_count'] = df['num_sequence'].apply(lambda x : len(x))\n",
    "df.head()"
   ]
  },
  {
   "cell_type": "code",
   "execution_count": 55,
   "metadata": {},
   "outputs": [],
   "source": [
    "df = df[(df['w_count'] >= 300) & (df['w_count'] <= 600)]"
   ]
  },
  {
   "cell_type": "code",
   "execution_count": 56,
   "metadata": {},
   "outputs": [],
   "source": [
    "df = df[(df['class'] == 0) | (df['class'] == 1)]"
   ]
  },
  {
   "cell_type": "code",
   "execution_count": 57,
   "metadata": {},
   "outputs": [
    {
     "data": {
      "text/plain": [
       "600"
      ]
     },
     "execution_count": 57,
     "metadata": {},
     "output_type": "execute_result"
    }
   ],
   "source": [
    "df.w_count.max()"
   ]
  },
  {
   "cell_type": "code",
   "execution_count": 58,
   "metadata": {},
   "outputs": [],
   "source": [
    "X_train, X_test, y_train, y_test = train_test_split(sequence.pad_sequences(df['num_sequence'], maxlen=df.w_count.max()), df['class'], test_size = 0.20, random_state=42)"
   ]
  },
  {
   "cell_type": "code",
   "execution_count": 59,
   "metadata": {},
   "outputs": [],
   "source": [
    "X_train = list(X_train)\n",
    "X_test = list(X_test)\n",
    "y_train = list(y_train)\n",
    "y_test = list(y_test)"
   ]
  },
  {
   "cell_type": "code",
   "execution_count": 60,
   "metadata": {},
   "outputs": [],
   "source": [
    "x_train = torch.FloatTensor(X_train).to(device)\n",
    "y_train = torch.LongTensor(y_train).to(device)\n",
    "\n",
    "x_test = torch.FloatTensor(X_test).to(device)\n",
    "y_test = torch.LongTensor(y_test).to(device)"
   ]
  },
  {
   "cell_type": "code",
   "execution_count": 61,
   "metadata": {},
   "outputs": [
    {
     "data": {
      "text/plain": [
       "torch.Size([174, 600])"
      ]
     },
     "execution_count": 61,
     "metadata": {},
     "output_type": "execute_result"
    }
   ],
   "source": [
    "x_train.shape"
   ]
  },
  {
   "cell_type": "code",
   "execution_count": 65,
   "metadata": {},
   "outputs": [],
   "source": [
    "class LSTMModule(nn.Module):\n",
    "\n",
    "    def __init__(self):\n",
    "        super(LSTMModule, self).__init__()\n",
    "\n",
    "        self.input_layer_size = 600\n",
    "        self.hidden_layer_size = 200\n",
    "        self.output_layer_size = 1\n",
    "\n",
    "        self.lstm = nn.LSTM(self.input_layer_size, self.hidden_layer_size)\n",
    "        self.fc = nn.Linear(self.hidden_layer_size, self.output_layer_size)\n",
    "\n",
    "        self.hidden_cell = (torch.zeros(1,1,self.hidden_layer_size).to(device), torch.zeros(1,1,self.hidden_layer_size).to(device))\n",
    "\n",
    "        self.sigmoid = nn.Sigmoid()\n",
    "\n",
    "    def forward(self, input_seq):\n",
    "\n",
    "        lstm_out, self.hidden_cell = self.lstm(input_seq.view(1 ,1, -1), self.hidden_cell)\n",
    "        predictions = self.sigmoid(self.fc(lstm_out.view(1, -1)))\n",
    "        return predictions[-1]"
   ]
  },
  {
   "cell_type": "code",
   "execution_count": 66,
   "metadata": {},
   "outputs": [],
   "source": [
    "model = LSTMModule().to(device)\n",
    "\n",
    "criterion = nn.BCELoss().to(device)\n",
    "optimizer = torch.optim.Adam(model.parameters(), lr=0.01)"
   ]
  },
  {
   "cell_type": "code",
   "execution_count": 68,
   "metadata": {},
   "outputs": [
    {
     "name": "stdout",
     "output_type": "stream",
     "text": [
      "LSTMModule(\n",
      "  (lstm): LSTM(600, 200)\n",
      "  (fc): Linear(in_features=200, out_features=1, bias=True)\n",
      "  (sigmoid): Sigmoid()\n",
      ")\n"
     ]
    }
   ],
   "source": [
    "print(model)"
   ]
  },
  {
   "cell_type": "code",
   "execution_count": 69,
   "metadata": {},
   "outputs": [
    {
     "name": "stdout",
     "output_type": "stream",
     "text": [
      "Epoch :  1\n",
      "training loss: 0.8200, acc 0.5115 \n",
      "validation loss: 0.6876, validation acc 0.6136 \n",
      "____________________\n",
      "Epoch :  2\n",
      "training loss: 0.7467, acc 0.5402 \n",
      "validation loss: 0.6857, validation acc 0.6136 \n",
      "____________________\n",
      "Epoch :  3\n",
      "training loss: 0.7468, acc 0.5402 \n",
      "validation loss: 0.6852, validation acc 0.6136 \n",
      "____________________\n",
      "Epoch :  4\n",
      "training loss: 0.7469, acc 0.5402 \n",
      "validation loss: 0.6849, validation acc 0.6136 \n",
      "____________________\n",
      "Epoch :  5\n",
      "training loss: 0.7469, acc 0.5402 \n",
      "validation loss: 0.6848, validation acc 0.6136 \n",
      "____________________\n",
      "Epoch :  6\n",
      "training loss: 0.7469, acc 0.5402 \n",
      "validation loss: 0.6847, validation acc 0.6136 \n",
      "____________________\n",
      "Epoch :  7\n",
      "training loss: 0.7470, acc 0.5402 \n",
      "validation loss: 0.6846, validation acc 0.6136 \n",
      "____________________\n",
      "Epoch :  8\n",
      "training loss: 0.7470, acc 0.5402 \n",
      "validation loss: 0.6846, validation acc 0.6136 \n",
      "____________________\n",
      "Epoch :  9\n",
      "training loss: 0.7470, acc 0.5402 \n",
      "validation loss: 0.6846, validation acc 0.6136 \n",
      "____________________\n",
      "Epoch :  10\n",
      "training loss: 0.7470, acc 0.5402 \n",
      "validation loss: 0.6845, validation acc 0.6136 \n",
      "____________________\n"
     ]
    }
   ],
   "source": [
    "epochs = 10\n",
    "\n",
    "running_loss_history = []\n",
    "epoch_list = []\n",
    "running_corrects_history = []\n",
    "val_running_loss_history = []\n",
    "val_running_corrects_history = []\n",
    "\n",
    "model.train()\n",
    "\n",
    "for i in range(epochs):\n",
    "\n",
    "    running_corrects = 0.0\n",
    "    val_running_loss = 0.0\n",
    "    val_running_corrects = 0.0\n",
    "\n",
    "    running_loss = 0.0\n",
    "\n",
    "    for seq, labels in zip(x_train, y_train):\n",
    "\n",
    "        optimizer.zero_grad()\n",
    "        model.hidden_cell = (torch.zeros(1, 1, 200).to(device), torch.zeros(1, 1, 200).to(device))\n",
    "\n",
    "        y_pred = model(seq)\n",
    "\n",
    "\n",
    "        single_loss = criterion(y_pred, labels.unsqueeze(0).float())\n",
    "        single_loss.backward()\n",
    "        optimizer.step()\n",
    "\n",
    "        preds = torch.round(y_pred).to(int).squeeze(0)\n",
    "        running_corrects += torch.sum(preds == labels)\n",
    "\n",
    "        running_loss += single_loss.item()\n",
    "\n",
    "\n",
    "    else:\n",
    "        with torch.no_grad():\n",
    "            for val_inputs, val_labels in zip(x_test, y_test):\n",
    "\n",
    "                val_outputs = model(val_inputs)\n",
    "                val_loss = criterion(val_outputs, val_labels.unsqueeze(0).float())\n",
    "                \n",
    "                val_preds = torch.round(val_outputs).to(int).squeeze(0)\n",
    "\n",
    "                val_running_loss += val_loss.item()\n",
    "                val_running_corrects += torch.sum(val_preds == val_labels)\n",
    "\n",
    "        \n",
    "    epoch_loss = running_loss/len(x_train)\n",
    "    epoch_acc = running_corrects.float()/ len(x_train)\n",
    "    running_loss_history.append(epoch_loss)\n",
    "    running_corrects_history.append(epoch_acc)\n",
    "\n",
    "    val_epoch_acc = val_running_corrects.float()/ len(x_test)\n",
    "    val_epoch_loss = val_running_loss/ len(x_test)\n",
    "    val_running_loss_history.append(val_epoch_loss)\n",
    "    val_running_corrects_history.append(val_epoch_acc)\n",
    "\n",
    "    epoch_list.append(i + 1)\n",
    "\n",
    "    print(\"Epoch : \",i + 1)\n",
    "    print('training loss: {:.4f}, acc {:.4f} '.format(running_loss/len(x_train), epoch_acc.item()))\n",
    "    print('validation loss: {:.4f}, validation acc {:.4f} '.format(val_epoch_loss, val_epoch_acc.item()))\n",
    "    print('_'*20)\n",
    "    "
   ]
  },
  {
   "cell_type": "code",
   "execution_count": 70,
   "metadata": {},
   "outputs": [
    {
     "data": {
      "text/plain": [
       "(218, 4)"
      ]
     },
     "execution_count": 70,
     "metadata": {},
     "output_type": "execute_result"
    }
   ],
   "source": []
  },
  {
   "cell_type": "code",
   "execution_count": null,
   "metadata": {},
   "outputs": [],
   "source": []
  }
 ],
 "metadata": {
  "interpreter": {
   "hash": "fe1fbfa14f7916735696a9322e667a237902258ca1fb6b99eeb22f79e9159140"
  },
  "kernelspec": {
   "display_name": "Python 3.8.6 64-bit",
   "language": "python",
   "name": "python3"
  },
  "language_info": {
   "codemirror_mode": {
    "name": "ipython",
    "version": 3
   },
   "file_extension": ".py",
   "mimetype": "text/x-python",
   "name": "python",
   "nbconvert_exporter": "python",
   "pygments_lexer": "ipython3",
   "version": "3.8.6"
  },
  "orig_nbformat": 4
 },
 "nbformat": 4,
 "nbformat_minor": 2
}
